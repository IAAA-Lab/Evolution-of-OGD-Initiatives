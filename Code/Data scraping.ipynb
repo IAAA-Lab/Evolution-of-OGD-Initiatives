{
 "cells": [
  {
   "cell_type": "code",
   "execution_count": 1,
   "metadata": {},
   "outputs": [],
   "source": [
    "#Experimento con más parámetros\n",
    "import requests\n",
    "import time\n",
    "import pandas as pd\n",
    "import time\n",
    "count = 0\n",
    "contador=0"
   ]
  },
  {
   "cell_type": "code",
   "execution_count": 57,
   "metadata": {},
   "outputs": [],
   "source": [
    "def connect_to_endpoint(bearer_token, query, next_token=None):\n",
    "    \n",
    "    headers = {\"Authorization\": \"Bearer {}\".format(bearer_token)}\n",
    "    \n",
    "    # add additional parameters as needed\n",
    "    params = {\"tweet.fields\" : \"author_id,created_at,entities,public_metrics,referenced_tweets,source\",\"expansions\":\"author_id,entities.mentions.username,referenced_tweets.id\",\"user.fields\":\"created_at,description,entities,id,location,name,protected,public_metrics,url,username,verified\"}\n",
    "\n",
    "    # replace appropriate start and end times below \n",
    "    #I have to modify the timeperiod start_time and end_time -----------------------------------\n",
    "    if (next_token is not None):\n",
    "        url = \"https://api.twitter.com/2/tweets/search/all?max_results=500&query={}&start_time=2017-01-01T00:00:00Z&end_time=2021-12-31T23:59:59Z&next_token={}\".format(query, next_token)\n",
    "    else:\n",
    "        url = \"https://api.twitter.com/2/tweets/search/all?max_results=500&start_time=2017-01-01T00:00:00Z&end_time=2021-12-31T23:59:59Z&query={}\".format(query)\n",
    "    response = requests.request(\"GET\", url, params=params , headers=headers)\n",
    "    \n",
    "    if response.status_code != 200:\n",
    "        raise Exception(response.status_code, response.text)\n",
    "    \n",
    "    return response.json()\n"
   ]
  },
  {
   "cell_type": "code",
   "execution_count": 58,
   "metadata": {},
   "outputs": [],
   "source": [
    "def twitter_call(cuenta):\n",
    "    \n",
    "    global count\n",
    "    global contador\n",
    "    flag = True\n",
    "\n",
    "    # Replace with your own bearer token from your academic project in developer portal\n",
    "    #I ahve to replace my credentials API -----------------------------------------------------------\n",
    "    bearer_token = \"AAAAAAAAAAAAAAAAAAAAAKdwjAEAAAAAOwIYVizquWN0gcU5PDgXypDRlx0%3DxFZ8Gys1Zk0f9Ehv8FasTUDw3Epa24Ke0b9aCtYciP30HkIJcy\"\n",
    "\n",
    "\n",
    "    json_response = connect_to_endpoint(bearer_token, cuenta, None)\n",
    "\n",
    "\n",
    "    while flag:\n",
    "        # Replace the count below with the number of Tweets you want to stop at. \n",
    "        # Note: running without the count check will result in getting more Tweets\n",
    "        # that will count towards the Tweet cap\n",
    "        if contador >= 280:\n",
    "            time.sleep(1000)\n",
    "        result_count = json_response['meta']['result_count']\n",
    "\n",
    "        if 'next_token' in json_response['meta']:\n",
    "            next_token = json_response['meta']['next_token']\n",
    "            if result_count is not None and result_count > 0 and next_token is not None:\n",
    "\n",
    "                df = (pd.DataFrame(json_response['data'])).sort_index(axis = 1)\n",
    "                df.to_csv('MaltaTweets.csv', mode=\"a\", header=False)\n",
    "                \n",
    "                df2 = (pd.DataFrame(json_response['includes']['users'])).sort_index(axis = 1)\n",
    "                df2.to_csv('MaltaaUsers.csv', mode=\"a\", header=False)\n",
    "\n",
    "                \n",
    "                \n",
    "                count += result_count\n",
    "                contador += 1\n",
    "                print(contador)\n",
    "                json_response = connect_to_endpoint(bearer_token, cuenta, next_token)\n",
    "\n",
    "        else:\n",
    "            flag = False\n",
    "\n",
    "    df = (pd.DataFrame(json_response['data'])).sort_index(axis = 1)\n",
    "    df.to_csv('MaltaTweets.csv', mode=\"a\", header=False)\n",
    "    \n",
    "    df2 = (pd.DataFrame(json_response['includes']['users'])).sort_index(axis = 1)\n",
    "    df2.to_csv('MaltaUsers.csv', mode=\"a\", header=False)\n",
    "\n",
    "    \n",
    "    \n",
    "    result_count = json_response['meta']['result_count']\n",
    "    count += result_count\n",
    "    contador += 1\n",
    "    print(\"Total Tweet IDs saved: {}\".format(contador))\n",
    " "
   ]
  },
  {
   "cell_type": "markdown",
   "metadata": {},
   "source": [
    "# Specify keywords"
   ]
  },
  {
   "cell_type": "code",
   "execution_count": 59,
   "metadata": {},
   "outputs": [],
   "source": [
    "a=\"open.data.gov.mt\"\n",
    "b=\"datagouvfr\""
   ]
  },
  {
   "cell_type": "code",
   "execution_count": 60,
   "metadata": {
    "scrolled": false
   },
   "outputs": [
    {
     "ename": "KeyError",
     "evalue": "'data'",
     "output_type": "error",
     "traceback": [
      "\u001b[1;31m---------------------------------------------------------------------------\u001b[0m",
      "\u001b[1;31mKeyError\u001b[0m                                  Traceback (most recent call last)",
      "\u001b[1;32m~\\AppData\\Local\\Temp\\ipykernel_13404\\817443525.py\u001b[0m in \u001b[0;36m<module>\u001b[1;34m\u001b[0m\n\u001b[0;32m      2\u001b[0m \u001b[0mcuenta\u001b[0m\u001b[1;33m=\u001b[0m \u001b[1;34m\"(url:\\\"\"\u001b[0m\u001b[1;33m+\u001b[0m\u001b[0ma\u001b[0m\u001b[1;33m+\u001b[0m\u001b[1;34m\"\\\") -is:retweet -is:reply -is:quote\"\u001b[0m  \u001b[1;31m#all the tweets mentioning the account\u001b[0m\u001b[1;33m\u001b[0m\u001b[1;33m\u001b[0m\u001b[0m\n\u001b[0;32m      3\u001b[0m \u001b[1;31m#cuenta= \"(from:\\\"\"+b+\"\\\")\" #all the tweets by an account\u001b[0m\u001b[1;33m\u001b[0m\u001b[1;33m\u001b[0m\u001b[1;33m\u001b[0m\u001b[0m\n\u001b[1;32m----> 4\u001b[1;33m \u001b[0mtwitter_call\u001b[0m\u001b[1;33m(\u001b[0m\u001b[0mcuenta\u001b[0m\u001b[1;33m)\u001b[0m\u001b[1;33m\u001b[0m\u001b[1;33m\u001b[0m\u001b[0m\n\u001b[0m",
      "\u001b[1;32m~\\AppData\\Local\\Temp\\ipykernel_13404\\2190495956.py\u001b[0m in \u001b[0;36mtwitter_call\u001b[1;34m(cuenta)\u001b[0m\n\u001b[0;32m     41\u001b[0m             \u001b[0mflag\u001b[0m \u001b[1;33m=\u001b[0m \u001b[1;32mFalse\u001b[0m\u001b[1;33m\u001b[0m\u001b[1;33m\u001b[0m\u001b[0m\n\u001b[0;32m     42\u001b[0m \u001b[1;33m\u001b[0m\u001b[0m\n\u001b[1;32m---> 43\u001b[1;33m     \u001b[0mdf\u001b[0m \u001b[1;33m=\u001b[0m \u001b[1;33m(\u001b[0m\u001b[0mpd\u001b[0m\u001b[1;33m.\u001b[0m\u001b[0mDataFrame\u001b[0m\u001b[1;33m(\u001b[0m\u001b[0mjson_response\u001b[0m\u001b[1;33m[\u001b[0m\u001b[1;34m'data'\u001b[0m\u001b[1;33m]\u001b[0m\u001b[1;33m)\u001b[0m\u001b[1;33m)\u001b[0m\u001b[1;33m.\u001b[0m\u001b[0msort_index\u001b[0m\u001b[1;33m(\u001b[0m\u001b[0maxis\u001b[0m \u001b[1;33m=\u001b[0m \u001b[1;36m1\u001b[0m\u001b[1;33m)\u001b[0m\u001b[1;33m\u001b[0m\u001b[1;33m\u001b[0m\u001b[0m\n\u001b[0m\u001b[0;32m     44\u001b[0m     \u001b[0mdf\u001b[0m\u001b[1;33m.\u001b[0m\u001b[0mto_csv\u001b[0m\u001b[1;33m(\u001b[0m\u001b[1;34m'MaltaTweets.csv'\u001b[0m\u001b[1;33m,\u001b[0m \u001b[0mmode\u001b[0m\u001b[1;33m=\u001b[0m\u001b[1;34m\"a\"\u001b[0m\u001b[1;33m,\u001b[0m \u001b[0mheader\u001b[0m\u001b[1;33m=\u001b[0m\u001b[1;32mFalse\u001b[0m\u001b[1;33m)\u001b[0m\u001b[1;33m\u001b[0m\u001b[1;33m\u001b[0m\u001b[0m\n\u001b[0;32m     45\u001b[0m \u001b[1;33m\u001b[0m\u001b[0m\n",
      "\u001b[1;31mKeyError\u001b[0m: 'data'"
     ]
    }
   ],
   "source": [
    "#cuenta= \"(url:\\\"\"+a+\"\\\" OR @\"+b+\") -is:retweet -is:reply -is:quote\"  #all the tweets mentioning the account\n",
    "cuenta= \"(url:\\\"\"+a+\"\\\") -is:retweet -is:reply -is:quote\"  #all the tweets mentioning the account\n",
    "#cuenta= \"(from:\\\"\"+b+\"\\\")\" #all the tweets by an account \n",
    "twitter_call(cuenta)"
   ]
  },
  {
   "cell_type": "code",
   "execution_count": 50,
   "metadata": {
    "scrolled": true
   },
   "outputs": [
    {
     "name": "stderr",
     "output_type": "stream",
     "text": [
      "C:\\Users\\Abdul Aziz\\.conda\\envs\\pycarete\\lib\\site-packages\\IPython\\core\\interactiveshell.py:3457: FutureWarning: The error_bad_lines argument has been deprecated and will be removed in a future version.\n",
      "\n",
      "\n",
      "  exec(code_obj, self.user_global_ns, self.user_ns)\n"
     ]
    },
    {
     "data": {
      "text/html": [
       "<div>\n",
       "<style scoped>\n",
       "    .dataframe tbody tr th:only-of-type {\n",
       "        vertical-align: middle;\n",
       "    }\n",
       "\n",
       "    .dataframe tbody tr th {\n",
       "        vertical-align: top;\n",
       "    }\n",
       "\n",
       "    .dataframe thead th {\n",
       "        text-align: right;\n",
       "    }\n",
       "</style>\n",
       "<table border=\"1\" class=\"dataframe\">\n",
       "  <thead>\n",
       "    <tr style=\"text-align: right;\">\n",
       "      <th></th>\n",
       "      <th>0</th>\n",
       "      <th>author_id</th>\n",
       "      <th>created_time</th>\n",
       "      <th>3</th>\n",
       "      <th>entities</th>\n",
       "      <th>tweet_id</th>\n",
       "      <th>metrics</th>\n",
       "      <th>source</th>\n",
       "      <th>text</th>\n",
       "    </tr>\n",
       "  </thead>\n",
       "  <tbody>\n",
       "    <tr>\n",
       "      <th>0</th>\n",
       "      <td>0</td>\n",
       "      <td>3593185034</td>\n",
       "      <td>2020-03-26T14:47:27.000Z</td>\n",
       "      <td>['1243187815451521024']</td>\n",
       "      <td>{'urls': [{'start': 51, 'end': 74, 'url': 'htt...</td>\n",
       "      <td>1243187815451521024</td>\n",
       "      <td>{'retweet_count': 0, 'reply_count': 1, 'like_c...</td>\n",
       "      <td>TweetDeck</td>\n",
       "      <td>【世界のジオポータル】マルタ\\nMalta Information Technology A...</td>\n",
       "    </tr>\n",
       "  </tbody>\n",
       "</table>\n",
       "</div>"
      ],
      "text/plain": [
       "   0   author_id              created_time                        3  \\\n",
       "0  0  3593185034  2020-03-26T14:47:27.000Z  ['1243187815451521024']   \n",
       "\n",
       "                                            entities             tweet_id  \\\n",
       "0  {'urls': [{'start': 51, 'end': 74, 'url': 'htt...  1243187815451521024   \n",
       "\n",
       "                                             metrics     source  \\\n",
       "0  {'retweet_count': 0, 'reply_count': 1, 'like_c...  TweetDeck   \n",
       "\n",
       "                                                text  \n",
       "0  【世界のジオポータル】マルタ\\nMalta Information Technology A...  "
      ]
     },
     "execution_count": 50,
     "metadata": {},
     "output_type": "execute_result"
    }
   ],
   "source": [
    "df=pd.read_csv(\"MaltaTweets2.csv\", header=None, engine='python',error_bad_lines=False)\n",
    "df.columns = ['0','author_id','created_time','3','entities','tweet_id','metrics','source','text']\n",
    "#df=df.drop_duplicates(subset=['tweet_id'])\n",
    "#df= pd.concat([df,df['metrics'].map(eval).apply(pd.Series)],axis=1)\n",
    "df"
   ]
  },
  {
   "cell_type": "code",
   "execution_count": null,
   "metadata": {},
   "outputs": [],
   "source": [
    "#df.to_excel(\"tweets.xlsx\")"
   ]
  },
  {
   "cell_type": "code",
   "execution_count": 51,
   "metadata": {},
   "outputs": [
    {
     "data": {
      "text/plain": [
       "1"
      ]
     },
     "execution_count": 51,
     "metadata": {},
     "output_type": "execute_result"
    }
   ],
   "source": [
    "len(df[\"author_id\"].unique())"
   ]
  },
  {
   "cell_type": "code",
   "execution_count": 52,
   "metadata": {
    "scrolled": true
   },
   "outputs": [
    {
     "name": "stderr",
     "output_type": "stream",
     "text": [
      "C:\\Users\\Abdul Aziz\\.conda\\envs\\pycarete\\lib\\site-packages\\IPython\\core\\interactiveshell.py:3457: FutureWarning: The error_bad_lines argument has been deprecated and will be removed in a future version.\n",
      "\n",
      "\n",
      "  exec(code_obj, self.user_global_ns, self.user_ns)\n"
     ]
    },
    {
     "data": {
      "text/html": [
       "<div>\n",
       "<style scoped>\n",
       "    .dataframe tbody tr th:only-of-type {\n",
       "        vertical-align: middle;\n",
       "    }\n",
       "\n",
       "    .dataframe tbody tr th {\n",
       "        vertical-align: top;\n",
       "    }\n",
       "\n",
       "    .dataframe thead th {\n",
       "        text-align: right;\n",
       "    }\n",
       "</style>\n",
       "<table border=\"1\" class=\"dataframe\">\n",
       "  <thead>\n",
       "    <tr style=\"text-align: right;\">\n",
       "      <th></th>\n",
       "      <th>0</th>\n",
       "      <th>1</th>\n",
       "      <th>2</th>\n",
       "      <th>3</th>\n",
       "      <th>4</th>\n",
       "      <th>5</th>\n",
       "      <th>6</th>\n",
       "      <th>7</th>\n",
       "      <th>8</th>\n",
       "      <th>9</th>\n",
       "      <th>10</th>\n",
       "      <th>11</th>\n",
       "    </tr>\n",
       "  </thead>\n",
       "  <tbody>\n",
       "    <tr>\n",
       "      <th>0</th>\n",
       "      <td>0</td>\n",
       "      <td>2015-09-17T11:04:23.000Z</td>\n",
       "      <td>いい年した大人（「社会科」教員免許失効済み非教育業界、残念な地理好き）のお勉強垢◆天気予報図...</td>\n",
       "      <td>{'url': {'urls': [{'start': 0, 'end': 23, 'url...</td>\n",
       "      <td>3593185034</td>\n",
       "      <td>お品書き↓</td>\n",
       "      <td>地理総合さん＠地図萌え</td>\n",
       "      <td>False</td>\n",
       "      <td>{'followers_count': 295, 'following_count': 22...</td>\n",
       "      <td>https://t.co/PO4XsV1RcS</td>\n",
       "      <td>Ms_Kisyo_GEO</td>\n",
       "      <td>False</td>\n",
       "    </tr>\n",
       "  </tbody>\n",
       "</table>\n",
       "</div>"
      ],
      "text/plain": [
       "   0                         1   \\\n",
       "0   0  2015-09-17T11:04:23.000Z   \n",
       "\n",
       "                                                  2   \\\n",
       "0  いい年した大人（「社会科」教員免許失効済み非教育業界、残念な地理好き）のお勉強垢◆天気予報図...   \n",
       "\n",
       "                                                  3           4      5   \\\n",
       "0  {'url': {'urls': [{'start': 0, 'end': 23, 'url...  3593185034  お品書き↓   \n",
       "\n",
       "            6      7                                                  8   \\\n",
       "0  地理総合さん＠地図萌え  False  {'followers_count': 295, 'following_count': 22...   \n",
       "\n",
       "                        9             10     11  \n",
       "0  https://t.co/PO4XsV1RcS  Ms_Kisyo_GEO  False  "
      ]
     },
     "execution_count": 52,
     "metadata": {},
     "output_type": "execute_result"
    }
   ],
   "source": [
    "df2=pd.read_csv(\"MaltaUsers2.csv\", header=None, engine='python',error_bad_lines=False)\n",
    "#df3=pd.read_csv(\"users1.csv\", header=None, engine='python',error_bad_lines=False, skiprows = 7735, nrows=610)\n",
    "#df2=df2.append(df3)\n",
    "df2"
   ]
  },
  {
   "cell_type": "code",
   "execution_count": null,
   "metadata": {},
   "outputs": [],
   "source": [
    "#df2.to_excel(\"usuarios.xlsx\")"
   ]
  },
  {
   "cell_type": "code",
   "execution_count": 53,
   "metadata": {
    "scrolled": true
   },
   "outputs": [
    {
     "data": {
      "text/html": [
       "<div>\n",
       "<style scoped>\n",
       "    .dataframe tbody tr th:only-of-type {\n",
       "        vertical-align: middle;\n",
       "    }\n",
       "\n",
       "    .dataframe tbody tr th {\n",
       "        vertical-align: top;\n",
       "    }\n",
       "\n",
       "    .dataframe thead th {\n",
       "        text-align: right;\n",
       "    }\n",
       "</style>\n",
       "<table border=\"1\" class=\"dataframe\">\n",
       "  <thead>\n",
       "    <tr style=\"text-align: right;\">\n",
       "      <th></th>\n",
       "      <th>author_id</th>\n",
       "      <th>username</th>\n",
       "      <th>verified</th>\n",
       "    </tr>\n",
       "  </thead>\n",
       "  <tbody>\n",
       "    <tr>\n",
       "      <th>0</th>\n",
       "      <td>3593185034</td>\n",
       "      <td>Ms_Kisyo_GEO</td>\n",
       "      <td>False</td>\n",
       "    </tr>\n",
       "  </tbody>\n",
       "</table>\n",
       "</div>"
      ],
      "text/plain": [
       "    author_id      username  verified\n",
       "0  3593185034  Ms_Kisyo_GEO     False"
      ]
     },
     "execution_count": 53,
     "metadata": {},
     "output_type": "execute_result"
    }
   ],
   "source": [
    "df2=df2[[4,10,11]]\n",
    "df2.columns = [\"author_id\",\"username\",\"verified\"]\n",
    "df2=df2.drop_duplicates(subset=['author_id'])\n",
    "df2"
   ]
  },
  {
   "cell_type": "code",
   "execution_count": 54,
   "metadata": {},
   "outputs": [],
   "source": [
    "#df['author_id'] = df['author_id'].astype(float)\n",
    "df['author_id'] =df['author_id'] .apply(lambda col:pd.to_numeric(col, errors='coerce'))\n",
    "df2['author_id'] =df2['author_id'] .apply(lambda col:pd.to_numeric(col, errors='coerce'))\n",
    "left_merged = pd.merge(df, df2, how=\"left\", on=[\"author_id\"])\n",
    "#left_merged=left_merged.drop_duplicates(subset=['author_id'])\n",
    "\n",
    "\n",
    "verified=len(left_merged[left_merged[\"verified\"]==\"True\"])\n"
   ]
  },
  {
   "cell_type": "code",
   "execution_count": 55,
   "metadata": {
    "scrolled": true
   },
   "outputs": [
    {
     "data": {
      "text/html": [
       "<div>\n",
       "<style scoped>\n",
       "    .dataframe tbody tr th:only-of-type {\n",
       "        vertical-align: middle;\n",
       "    }\n",
       "\n",
       "    .dataframe tbody tr th {\n",
       "        vertical-align: top;\n",
       "    }\n",
       "\n",
       "    .dataframe thead th {\n",
       "        text-align: right;\n",
       "    }\n",
       "</style>\n",
       "<table border=\"1\" class=\"dataframe\">\n",
       "  <thead>\n",
       "    <tr style=\"text-align: right;\">\n",
       "      <th></th>\n",
       "      <th>0</th>\n",
       "      <th>author_id</th>\n",
       "      <th>created_time</th>\n",
       "      <th>3</th>\n",
       "      <th>entities</th>\n",
       "      <th>tweet_id</th>\n",
       "      <th>metrics</th>\n",
       "      <th>source</th>\n",
       "      <th>text</th>\n",
       "      <th>username</th>\n",
       "      <th>verified</th>\n",
       "    </tr>\n",
       "  </thead>\n",
       "  <tbody>\n",
       "    <tr>\n",
       "      <th>0</th>\n",
       "      <td>0</td>\n",
       "      <td>3593185034</td>\n",
       "      <td>2020-03-26T14:47:27.000Z</td>\n",
       "      <td>['1243187815451521024']</td>\n",
       "      <td>{'urls': [{'start': 51, 'end': 74, 'url': 'htt...</td>\n",
       "      <td>1243187815451521024</td>\n",
       "      <td>{'retweet_count': 0, 'reply_count': 1, 'like_c...</td>\n",
       "      <td>TweetDeck</td>\n",
       "      <td>【世界のジオポータル】マルタ\\nMalta Information Technology A...</td>\n",
       "      <td>Ms_Kisyo_GEO</td>\n",
       "      <td>False</td>\n",
       "    </tr>\n",
       "  </tbody>\n",
       "</table>\n",
       "</div>"
      ],
      "text/plain": [
       "   0   author_id              created_time                        3  \\\n",
       "0  0  3593185034  2020-03-26T14:47:27.000Z  ['1243187815451521024']   \n",
       "\n",
       "                                            entities             tweet_id  \\\n",
       "0  {'urls': [{'start': 51, 'end': 74, 'url': 'htt...  1243187815451521024   \n",
       "\n",
       "                                             metrics     source  \\\n",
       "0  {'retweet_count': 0, 'reply_count': 1, 'like_c...  TweetDeck   \n",
       "\n",
       "                                                text      username  verified  \n",
       "0  【世界のジオポータル】マルタ\\nMalta Information Technology A...  Ms_Kisyo_GEO     False  "
      ]
     },
     "execution_count": 55,
     "metadata": {},
     "output_type": "execute_result"
    }
   ],
   "source": [
    "left_merged"
   ]
  },
  {
   "cell_type": "code",
   "execution_count": null,
   "metadata": {},
   "outputs": [],
   "source": [
    "#left_merged.to_excel(\"tweets.xlsx\")"
   ]
  },
  {
   "cell_type": "code",
   "execution_count": 56,
   "metadata": {
    "scrolled": false
   },
   "outputs": [
    {
     "data": {
      "text/plain": [
       "1"
      ]
     },
     "execution_count": 56,
     "metadata": {},
     "output_type": "execute_result"
    }
   ],
   "source": [
    "len(left_merged.dropna(subset=['username']))"
   ]
  },
  {
   "cell_type": "code",
   "execution_count": null,
   "metadata": {},
   "outputs": [],
   "source": []
  },
  {
   "cell_type": "code",
   "execution_count": null,
   "metadata": {},
   "outputs": [],
   "source": []
  }
 ],
 "metadata": {
  "kernelspec": {
   "display_name": "Python 3 (ipykernel)",
   "language": "python",
   "name": "python3"
  },
  "language_info": {
   "codemirror_mode": {
    "name": "ipython",
    "version": 3
   },
   "file_extension": ".py",
   "mimetype": "text/x-python",
   "name": "python",
   "nbconvert_exporter": "python",
   "pygments_lexer": "ipython3",
   "version": "3.7.13"
  }
 },
 "nbformat": 4,
 "nbformat_minor": 4
}
